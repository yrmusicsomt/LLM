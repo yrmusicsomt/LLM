{
  "nbformat": 4,
  "nbformat_minor": 0,
  "metadata": {
    "colab": {
      "provenance": [],
      "gpuType": "T4"
    },
    "kernelspec": {
      "name": "python3",
      "display_name": "Python 3"
    },
    "language_info": {
      "name": "python"
    },
    "accelerator": "GPU"
  },
  "cells": [
    {
      "cell_type": "markdown",
      "source": [
        "# *Build a tiny transformer model from scratch using nn.Transformer*\n",
        "\n"
      ],
      "metadata": {
        "id": "kPPrT9ZCERLl"
      }
    },
    {
      "cell_type": "markdown",
      "source": [
        "**Step 1: Setup and Import Necessary Libraries**"
      ],
      "metadata": {
        "id": "PtdMpoyGJPAJ"
      }
    },
    {
      "cell_type": "markdown",
      "source": [],
      "metadata": {
        "id": "rHAARjHWEPXC"
      }
    },
    {
      "cell_type": "code",
      "source": [
        "import torch\n",
        "import torch.nn as nn\n",
        "import torch.optim as optim\n",
        "import numpy as np\n",
        "import math\n"
      ],
      "metadata": {
        "id": "lc3Hcqw_b3U6"
      },
      "execution_count": null,
      "outputs": []
    },
    {
      "cell_type": "markdown",
      "source": [
        "**Step 2: Define the Tokenizer and Vocabulary**\n"
      ],
      "metadata": {
        "id": "MrR0xpQRJRHV"
      }
    },
    {
      "cell_type": "code",
      "source": [
        "# Example vocabulary and tokenizer\n",
        "vocab = ['i', 'am', 'a', 'student', 'teacher', 'you', 'are', 'learning', 'to', 'build', 'language', 'model']\n",
        "vocab_size = len(vocab)\n",
        "word_to_id = {word: idx for idx, word in enumerate(vocab)}\n",
        "id_to_word = {idx: word for idx, word in enumerate(vocab)}\n",
        "\n",
        "# Example tokenizer function\n",
        "def tokenize(sentence):\n",
        "    return [word_to_id[word] for word in sentence.lower().split() if word in word_to_id]\n",
        "\n",
        "# Example detokenizer function\n",
        "def detokenize(tokens):\n",
        "    return ' '.join([id_to_word[token] for token in tokens])\n",
        "\n"
      ],
      "metadata": {
        "id": "WPb_hgSvGf5f"
      },
      "execution_count": null,
      "outputs": []
    },
    {
      "cell_type": "code",
      "source": [
        "word_to_id\n",
        "id_to_word"
      ],
      "metadata": {
        "id": "pHn1BUufJp26",
        "colab": {
          "base_uri": "https://localhost:8080/"
        },
        "outputId": "87f5a781-0b65-4789-d007-3980d0d06458"
      },
      "execution_count": null,
      "outputs": [
        {
          "output_type": "execute_result",
          "data": {
            "text/plain": [
              "{0: 'i',\n",
              " 1: 'am',\n",
              " 2: 'a',\n",
              " 3: 'student',\n",
              " 4: 'teacher',\n",
              " 5: 'you',\n",
              " 6: 'are',\n",
              " 7: 'learning',\n",
              " 8: 'to',\n",
              " 9: 'build',\n",
              " 10: 'language',\n",
              " 11: 'model'}"
            ]
          },
          "metadata": {},
          "execution_count": 3
        }
      ]
    },
    {
      "cell_type": "markdown",
      "source": [
        "**Step 3: Define Positional Encoding**\n"
      ],
      "metadata": {
        "id": "iL2YENiGJfp_"
      }
    },
    {
      "cell_type": "code",
      "source": [
        "class PositionalEncoding(nn.Module):\n",
        "    def __init__(self, d_model, max_len=5000):\n",
        "        super(PositionalEncoding, self).__init__()\n",
        "        pe = torch.zeros(max_len, d_model)\n",
        "        position = torch.arange(0, max_len, dtype=torch.float).unsqueeze(1)\n",
        "        div_term = torch.exp(torch.arange(0, d_model, 2).float() * (-math.log(10000.0) / d_model))\n",
        "        pe[:, 0::2] = torch.sin(position * div_term)\n",
        "        pe[:, 1::2] = torch.cos(position * div_term)\n",
        "        self.pe = pe.unsqueeze(0).transpose(0, 1)\n",
        "\n",
        "    def forward(self, x):\n",
        "        return x + self.pe[:x.size(0), :]\n"
      ],
      "metadata": {
        "id": "01UrORlWGvJL"
      },
      "execution_count": null,
      "outputs": []
    },
    {
      "cell_type": "markdown",
      "source": [
        "**Step 4: Build the Transformer Model**"
      ],
      "metadata": {
        "id": "Ynj6K73NJu7b"
      }
    },
    {
      "cell_type": "code",
      "source": [
        "class NanoLLM(nn.Module):\n",
        "    def __init__(self, vocab_size, embedding_dim, num_heads, num_layers):\n",
        "        super(NanoLLM, self).__init__()\n",
        "        self.embedding = nn.Embedding(vocab_size, embedding_dim)\n",
        "        self.positional_encoding = PositionalEncoding(embedding_dim)\n",
        "        self.transformer_blocks = nn.Transformer(d_model=embedding_dim, nhead=num_heads, num_encoder_layers=num_layers, num_decoder_layers=num_layers)\n",
        "        self.fc_out = nn.Linear(embedding_dim, vocab_size)\n",
        "\n",
        "    def forward(self, src, tgt):\n",
        "        src = self.embedding(src) * math.sqrt(src.size(1))\n",
        "        tgt = self.embedding(tgt) * math.sqrt(tgt.size(1))\n",
        "        src = self.positional_encoding(src)\n",
        "        tgt = self.positional_encoding(tgt)\n",
        "        transformer_output = self.transformer_blocks(src, tgt)\n",
        "        output = self.fc_out(transformer_output)\n",
        "        return output\n"
      ],
      "metadata": {
        "id": "T99ZmEDMG2vt"
      },
      "execution_count": null,
      "outputs": []
    },
    {
      "cell_type": "markdown",
      "source": [
        "**Step 5: Generate Example Data**"
      ],
      "metadata": {
        "id": "vHBY1cUyJzuP"
      }
    },
    {
      "cell_type": "code",
      "source": [
        "def generate_example_data():\n",
        "    sentences = [\n",
        "        'i am a student',\n",
        "        'you are learning to build',\n",
        "        'i am a teacher',\n",
        "        'you are a student'\n",
        "    ]\n",
        "    data = []\n",
        "    for sentence in sentences:\n",
        "        tokens = tokenize(sentence)\n",
        "        input_seq = tokens[:-1]\n",
        "        target_seq = tokens[1:]\n",
        "        data.append((torch.tensor(input_seq, dtype=torch.long), torch.tensor(target_seq, dtype=torch.long)))\n",
        "    return data\n",
        "\n",
        "training_data = generate_example_data()\n"
      ],
      "metadata": {
        "id": "IvWW5b9eG9XZ"
      },
      "execution_count": null,
      "outputs": []
    },
    {
      "cell_type": "code",
      "source": [
        "training_data"
      ],
      "metadata": {
        "colab": {
          "base_uri": "https://localhost:8080/"
        },
        "id": "_Xy6XmqzsCHf",
        "outputId": "92034d46-e83b-4994-d4e4-568df4abbcdf"
      },
      "execution_count": null,
      "outputs": [
        {
          "output_type": "execute_result",
          "data": {
            "text/plain": [
              "[(tensor([0, 1, 2]), tensor([1, 2, 3])),\n",
              " (tensor([5, 6, 7, 8]), tensor([6, 7, 8, 9])),\n",
              " (tensor([0, 1, 2]), tensor([1, 2, 4])),\n",
              " (tensor([5, 6, 2]), tensor([6, 2, 3]))]"
            ]
          },
          "metadata": {},
          "execution_count": 7
        }
      ]
    },
    {
      "cell_type": "markdown",
      "source": [
        "**Step 6: Train the Model**"
      ],
      "metadata": {
        "id": "K0D6srj7J4WG"
      }
    },
    {
      "cell_type": "code",
      "source": [
        "# Hyperparameters\n",
        "embedding_dim = 32\n",
        "num_heads = 2\n",
        "num_layers = 2\n",
        "learning_rate = 0.001\n",
        "num_epochs = 100\n",
        "\n",
        "# Initialize model, loss function, and optimizer\n",
        "model = NanoLLM(vocab_size, embedding_dim, num_heads, num_layers)\n",
        "criterion = nn.CrossEntropyLoss()\n",
        "optimizer = optim.Adam(model.parameters(), lr=learning_rate)\n",
        "\n",
        "# Training loop\n",
        "for epoch in range(num_epochs):\n",
        "    total_loss = 0\n",
        "    for src, tgt in training_data:\n",
        "        src = src.unsqueeze(1)\n",
        "        tgt = tgt.unsqueeze(1)\n",
        "        optimizer.zero_grad()\n",
        "        output = model(src, tgt)\n",
        "        loss = criterion(output.view(-1, vocab_size), tgt.view(-1))\n",
        "        loss.backward()\n",
        "        optimizer.step()\n",
        "        total_loss += loss.item()\n",
        "\n",
        "    if (epoch + 1) % 10 == 0:\n",
        "        print(f'Epoch [{epoch + 1}/{num_epochs}], Loss: {total_loss/len(training_data):.4f}')\n"
      ],
      "metadata": {
        "id": "X86x9lMWHY9w",
        "colab": {
          "base_uri": "https://localhost:8080/"
        },
        "outputId": "16ac08d4-18ed-4272-9978-94c1aafa1fd7"
      },
      "execution_count": null,
      "outputs": [
        {
          "output_type": "stream",
          "name": "stderr",
          "text": [
            "/usr/local/lib/python3.10/dist-packages/torch/nn/modules/transformer.py:307: UserWarning: enable_nested_tensor is True, but self.use_nested_tensor is False because encoder_layer.self_attn.batch_first was not True(use batch_first for better inference performance)\n",
            "  warnings.warn(f\"enable_nested_tensor is True, but self.use_nested_tensor is False because {why_not_sparsity_fast_path}\")\n"
          ]
        },
        {
          "output_type": "stream",
          "name": "stdout",
          "text": [
            "Epoch [10/100], Loss: 0.4042\n",
            "Epoch [20/100], Loss: 0.2070\n",
            "Epoch [30/100], Loss: 0.1231\n",
            "Epoch [40/100], Loss: 0.0844\n",
            "Epoch [50/100], Loss: 0.0568\n",
            "Epoch [60/100], Loss: 0.0446\n",
            "Epoch [70/100], Loss: 0.0346\n",
            "Epoch [80/100], Loss: 0.0290\n",
            "Epoch [90/100], Loss: 0.0212\n",
            "Epoch [100/100], Loss: 0.0184\n"
          ]
        }
      ]
    },
    {
      "cell_type": "code",
      "source": [
        "model"
      ],
      "metadata": {
        "colab": {
          "base_uri": "https://localhost:8080/"
        },
        "id": "V5TShGJ6sf-a",
        "outputId": "62ca88cf-1d52-4c03-ebe7-d9d23c71daaa"
      },
      "execution_count": null,
      "outputs": [
        {
          "output_type": "execute_result",
          "data": {
            "text/plain": [
              "NanoLLM(\n",
              "  (embedding): Embedding(12, 32)\n",
              "  (positional_encoding): PositionalEncoding()\n",
              "  (transformer_blocks): Transformer(\n",
              "    (encoder): TransformerEncoder(\n",
              "      (layers): ModuleList(\n",
              "        (0-1): 2 x TransformerEncoderLayer(\n",
              "          (self_attn): MultiheadAttention(\n",
              "            (out_proj): NonDynamicallyQuantizableLinear(in_features=32, out_features=32, bias=True)\n",
              "          )\n",
              "          (linear1): Linear(in_features=32, out_features=2048, bias=True)\n",
              "          (dropout): Dropout(p=0.1, inplace=False)\n",
              "          (linear2): Linear(in_features=2048, out_features=32, bias=True)\n",
              "          (norm1): LayerNorm((32,), eps=1e-05, elementwise_affine=True)\n",
              "          (norm2): LayerNorm((32,), eps=1e-05, elementwise_affine=True)\n",
              "          (dropout1): Dropout(p=0.1, inplace=False)\n",
              "          (dropout2): Dropout(p=0.1, inplace=False)\n",
              "        )\n",
              "      )\n",
              "      (norm): LayerNorm((32,), eps=1e-05, elementwise_affine=True)\n",
              "    )\n",
              "    (decoder): TransformerDecoder(\n",
              "      (layers): ModuleList(\n",
              "        (0-1): 2 x TransformerDecoderLayer(\n",
              "          (self_attn): MultiheadAttention(\n",
              "            (out_proj): NonDynamicallyQuantizableLinear(in_features=32, out_features=32, bias=True)\n",
              "          )\n",
              "          (multihead_attn): MultiheadAttention(\n",
              "            (out_proj): NonDynamicallyQuantizableLinear(in_features=32, out_features=32, bias=True)\n",
              "          )\n",
              "          (linear1): Linear(in_features=32, out_features=2048, bias=True)\n",
              "          (dropout): Dropout(p=0.1, inplace=False)\n",
              "          (linear2): Linear(in_features=2048, out_features=32, bias=True)\n",
              "          (norm1): LayerNorm((32,), eps=1e-05, elementwise_affine=True)\n",
              "          (norm2): LayerNorm((32,), eps=1e-05, elementwise_affine=True)\n",
              "          (norm3): LayerNorm((32,), eps=1e-05, elementwise_affine=True)\n",
              "          (dropout1): Dropout(p=0.1, inplace=False)\n",
              "          (dropout2): Dropout(p=0.1, inplace=False)\n",
              "          (dropout3): Dropout(p=0.1, inplace=False)\n",
              "        )\n",
              "      )\n",
              "      (norm): LayerNorm((32,), eps=1e-05, elementwise_affine=True)\n",
              "    )\n",
              "  )\n",
              "  (fc_out): Linear(in_features=32, out_features=12, bias=True)\n",
              ")"
            ]
          },
          "metadata": {},
          "execution_count": 9
        }
      ]
    },
    {
      "cell_type": "markdown",
      "source": [
        "**Step 7: Make Predictions**"
      ],
      "metadata": {
        "id": "hpoMXaIaJ9IY"
      }
    },
    {
      "cell_type": "code",
      "source": [
        "def predict_next_word(model, input_seq):\n",
        "    model.eval()\n",
        "    with torch.no_grad():\n",
        "        tokens = tokenize(input_seq)\n",
        "        input_tensor = torch.tensor(tokens, dtype=torch.long).unsqueeze(1)\n",
        "        output = model(input_tensor, input_tensor)\n",
        "        predicted_id = torch.argmax(output[-1, 0, :]).item()\n",
        "        return id_to_word[predicted_id]\n",
        "\n",
        "# Example usage\n",
        "input_sentence = \"you\"\n",
        "predicted_word = predict_next_word(model, input_sentence)\n",
        "print(f\"Input: '{input_sentence}', Predicted next word: '{predicted_word}'\")\n"
      ],
      "metadata": {
        "id": "jzEhlVxJHkbK",
        "colab": {
          "base_uri": "https://localhost:8080/"
        },
        "outputId": "b1a8c2e0-a5a9-4e69-8fb0-b634588fb327"
      },
      "execution_count": null,
      "outputs": [
        {
          "output_type": "stream",
          "name": "stdout",
          "text": [
            "Input: 'you', Predicted next word: 'am'\n"
          ]
        }
      ]
    }
  ]
}